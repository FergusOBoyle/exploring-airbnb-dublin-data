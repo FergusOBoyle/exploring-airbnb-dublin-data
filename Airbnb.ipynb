{
 "cells": [
  {
   "cell_type": "code",
   "execution_count": 1,
   "metadata": {},
   "outputs": [],
   "source": [
    "import numpy as np\n",
    "import pandas as pd\n",
    "import seaborn as sns\n",
    "from time import time\n",
    "from IPython.display import display # Allows the use of display() for DataFrames\n",
    "import matplotlib.pyplot as plt\n",
    "from sklearn.preprocessing import MinMaxScaler\n",
    "from sklearn.preprocessing import StandardScaler\n",
    "from sklearn.model_selection import train_test_split\n",
    "\n",
    "from datetime import datetime\n",
    "from datetime import timedelta\n",
    "import matplotlib.dates as mdates\n",
    "\n",
    "# Pretty display for notebooks\n",
    "%matplotlib inline\n"
   ]
  },
  {
   "cell_type": "code",
   "execution_count": 2,
   "metadata": {},
   "outputs": [],
   "source": [
    "#Parameters\n",
    "data_directory = \"./data/\"\n",
    "output_directory = \"./out/\"\n",
    "\n",
    "input_file = \"listings.csv\"\n",
    "\n",
    "file_cost_and_ratings_out = \"neighbourhood_cost_and_ratings.csv\""
   ]
  },
  {
   "cell_type": "code",
   "execution_count": 3,
   "metadata": {},
   "outputs": [
    {
     "name": "stderr",
     "output_type": "stream",
     "text": [
      "C:\\ProgramData\\Anaconda3\\lib\\site-packages\\IPython\\core\\interactiveshell.py:3020: DtypeWarning: Columns (61,62) have mixed types. Specify dtype option on import or set low_memory=False.\n",
      "  interactivity=interactivity, compiler=compiler, result=result)\n"
     ]
    }
   ],
   "source": [
    "#Open data file\n",
    "data_extended = pd.read_csv(data_directory + input_file)"
   ]
  },
  {
   "cell_type": "code",
   "execution_count": 4,
   "metadata": {},
   "outputs": [],
   "source": [
    "pd.set_option('display.max_columns', 500)"
   ]
  },
  {
   "cell_type": "code",
   "execution_count": 5,
   "metadata": {},
   "outputs": [
    {
     "data": {
      "text/html": [
       "<div>\n",
       "<style scoped>\n",
       "    .dataframe tbody tr th:only-of-type {\n",
       "        vertical-align: middle;\n",
       "    }\n",
       "\n",
       "    .dataframe tbody tr th {\n",
       "        vertical-align: top;\n",
       "    }\n",
       "\n",
       "    .dataframe thead th {\n",
       "        text-align: right;\n",
       "    }\n",
       "</style>\n",
       "<table border=\"1\" class=\"dataframe\">\n",
       "  <thead>\n",
       "    <tr style=\"text-align: right;\">\n",
       "      <th></th>\n",
       "      <th>id</th>\n",
       "      <th>listing_url</th>\n",
       "      <th>scrape_id</th>\n",
       "      <th>last_scraped</th>\n",
       "      <th>name</th>\n",
       "      <th>summary</th>\n",
       "      <th>space</th>\n",
       "      <th>description</th>\n",
       "      <th>experiences_offered</th>\n",
       "      <th>neighborhood_overview</th>\n",
       "      <th>notes</th>\n",
       "      <th>transit</th>\n",
       "      <th>access</th>\n",
       "      <th>interaction</th>\n",
       "      <th>house_rules</th>\n",
       "      <th>thumbnail_url</th>\n",
       "      <th>medium_url</th>\n",
       "      <th>picture_url</th>\n",
       "      <th>xl_picture_url</th>\n",
       "      <th>host_id</th>\n",
       "      <th>host_url</th>\n",
       "      <th>host_name</th>\n",
       "      <th>host_since</th>\n",
       "      <th>host_location</th>\n",
       "      <th>host_about</th>\n",
       "      <th>host_response_time</th>\n",
       "      <th>host_response_rate</th>\n",
       "      <th>host_acceptance_rate</th>\n",
       "      <th>host_is_superhost</th>\n",
       "      <th>host_thumbnail_url</th>\n",
       "      <th>host_picture_url</th>\n",
       "      <th>host_neighbourhood</th>\n",
       "      <th>host_listings_count</th>\n",
       "      <th>host_total_listings_count</th>\n",
       "      <th>host_verifications</th>\n",
       "      <th>host_has_profile_pic</th>\n",
       "      <th>host_identity_verified</th>\n",
       "      <th>street</th>\n",
       "      <th>neighbourhood</th>\n",
       "      <th>neighbourhood_cleansed</th>\n",
       "      <th>neighbourhood_group_cleansed</th>\n",
       "      <th>city</th>\n",
       "      <th>state</th>\n",
       "      <th>zipcode</th>\n",
       "      <th>market</th>\n",
       "      <th>smart_location</th>\n",
       "      <th>country_code</th>\n",
       "      <th>country</th>\n",
       "      <th>latitude</th>\n",
       "      <th>longitude</th>\n",
       "      <th>is_location_exact</th>\n",
       "      <th>property_type</th>\n",
       "      <th>room_type</th>\n",
       "      <th>accommodates</th>\n",
       "      <th>bathrooms</th>\n",
       "      <th>bedrooms</th>\n",
       "      <th>beds</th>\n",
       "      <th>bed_type</th>\n",
       "      <th>amenities</th>\n",
       "      <th>square_feet</th>\n",
       "      <th>price</th>\n",
       "      <th>weekly_price</th>\n",
       "      <th>monthly_price</th>\n",
       "      <th>security_deposit</th>\n",
       "      <th>cleaning_fee</th>\n",
       "      <th>guests_included</th>\n",
       "      <th>extra_people</th>\n",
       "      <th>minimum_nights</th>\n",
       "      <th>maximum_nights</th>\n",
       "      <th>minimum_minimum_nights</th>\n",
       "      <th>maximum_minimum_nights</th>\n",
       "      <th>minimum_maximum_nights</th>\n",
       "      <th>maximum_maximum_nights</th>\n",
       "      <th>minimum_nights_avg_ntm</th>\n",
       "      <th>maximum_nights_avg_ntm</th>\n",
       "      <th>calendar_updated</th>\n",
       "      <th>has_availability</th>\n",
       "      <th>availability_30</th>\n",
       "      <th>availability_60</th>\n",
       "      <th>availability_90</th>\n",
       "      <th>availability_365</th>\n",
       "      <th>calendar_last_scraped</th>\n",
       "      <th>number_of_reviews</th>\n",
       "      <th>number_of_reviews_ltm</th>\n",
       "      <th>first_review</th>\n",
       "      <th>last_review</th>\n",
       "      <th>review_scores_rating</th>\n",
       "      <th>review_scores_accuracy</th>\n",
       "      <th>review_scores_cleanliness</th>\n",
       "      <th>review_scores_checkin</th>\n",
       "      <th>review_scores_communication</th>\n",
       "      <th>review_scores_location</th>\n",
       "      <th>review_scores_value</th>\n",
       "      <th>requires_license</th>\n",
       "      <th>license</th>\n",
       "      <th>jurisdiction_names</th>\n",
       "      <th>instant_bookable</th>\n",
       "      <th>is_business_travel_ready</th>\n",
       "      <th>cancellation_policy</th>\n",
       "      <th>require_guest_profile_picture</th>\n",
       "      <th>require_guest_phone_verification</th>\n",
       "      <th>calculated_host_listings_count</th>\n",
       "      <th>calculated_host_listings_count_entire_homes</th>\n",
       "      <th>calculated_host_listings_count_private_rooms</th>\n",
       "      <th>calculated_host_listings_count_shared_rooms</th>\n",
       "      <th>reviews_per_month</th>\n",
       "    </tr>\n",
       "  </thead>\n",
       "  <tbody>\n",
       "    <tr>\n",
       "      <th>0</th>\n",
       "      <td>14842</td>\n",
       "      <td>https://www.airbnb.com/rooms/14842</td>\n",
       "      <td>20190122134607</td>\n",
       "      <td>2019-01-22</td>\n",
       "      <td>Best location Portobello entire house, can sle...</td>\n",
       "      <td>Beautiful entire house, newly revamped, with s...</td>\n",
       "      <td>Gorgeous, newly revamped central Dublin city e...</td>\n",
       "      <td>Beautiful entire house, newly revamped, with s...</td>\n",
       "      <td>none</td>\n",
       "      <td>Portobello is an exceptional place to live - v...</td>\n",
       "      <td>NaN</td>\n",
       "      <td>There is great public transport - buses, Luas,...</td>\n",
       "      <td>Guests get the whole house to themselves.</td>\n",
       "      <td>I love meeting guests and I give you extensive...</td>\n",
       "      <td>This house is a charming space, just completel...</td>\n",
       "      <td>NaN</td>\n",
       "      <td>NaN</td>\n",
       "      <td>https://a0.muscache.com/im/pictures/106656330/...</td>\n",
       "      <td>NaN</td>\n",
       "      <td>58344</td>\n",
       "      <td>https://www.airbnb.com/users/show/58344</td>\n",
       "      <td>Hilary</td>\n",
       "      <td>2009-11-29</td>\n",
       "      <td>Dublin, County Dublin, Ireland</td>\n",
       "      <td>An easy-going and friendly Irish woman. Works ...</td>\n",
       "      <td>within an hour</td>\n",
       "      <td>100%</td>\n",
       "      <td>NaN</td>\n",
       "      <td>t</td>\n",
       "      <td>https://a0.muscache.com/im/users/58344/profile...</td>\n",
       "      <td>https://a0.muscache.com/im/users/58344/profile...</td>\n",
       "      <td>NaN</td>\n",
       "      <td>1</td>\n",
       "      <td>1</td>\n",
       "      <td>['email', 'phone', 'facebook', 'reviews', 'jum...</td>\n",
       "      <td>t</td>\n",
       "      <td>f</td>\n",
       "      <td>Dublin, Dublin City, Ireland</td>\n",
       "      <td>Portobello</td>\n",
       "      <td>Dublin City</td>\n",
       "      <td>NaN</td>\n",
       "      <td>Dublin</td>\n",
       "      <td>Dublin City</td>\n",
       "      <td>Dublin 8</td>\n",
       "      <td>Dublin</td>\n",
       "      <td>Dublin, Ireland</td>\n",
       "      <td>IE</td>\n",
       "      <td>Ireland</td>\n",
       "      <td>53.331057</td>\n",
       "      <td>-6.269163</td>\n",
       "      <td>f</td>\n",
       "      <td>House</td>\n",
       "      <td>Entire home/apt</td>\n",
       "      <td>3</td>\n",
       "      <td>1.0</td>\n",
       "      <td>1.0</td>\n",
       "      <td>1.0</td>\n",
       "      <td>Real Bed</td>\n",
       "      <td>{TV,Internet,Wifi,Kitchen,Heating,\"Family/kid ...</td>\n",
       "      <td>0.0</td>\n",
       "      <td>$119.00</td>\n",
       "      <td>NaN</td>\n",
       "      <td>NaN</td>\n",
       "      <td>$500.00</td>\n",
       "      <td>$60.00</td>\n",
       "      <td>2</td>\n",
       "      <td>$30.00</td>\n",
       "      <td>20</td>\n",
       "      <td>31</td>\n",
       "      <td>20</td>\n",
       "      <td>20</td>\n",
       "      <td>31</td>\n",
       "      <td>31</td>\n",
       "      <td>20.0</td>\n",
       "      <td>31.0</td>\n",
       "      <td>3 days ago</td>\n",
       "      <td>t</td>\n",
       "      <td>2</td>\n",
       "      <td>2</td>\n",
       "      <td>5</td>\n",
       "      <td>5</td>\n",
       "      <td>2019-01-22</td>\n",
       "      <td>42</td>\n",
       "      <td>16</td>\n",
       "      <td>2011-07-11</td>\n",
       "      <td>2019-01-02</td>\n",
       "      <td>95.0</td>\n",
       "      <td>10.0</td>\n",
       "      <td>9.0</td>\n",
       "      <td>10.0</td>\n",
       "      <td>10.0</td>\n",
       "      <td>10.0</td>\n",
       "      <td>9.0</td>\n",
       "      <td>f</td>\n",
       "      <td>NaN</td>\n",
       "      <td>NaN</td>\n",
       "      <td>f</td>\n",
       "      <td>f</td>\n",
       "      <td>strict_14_with_grace_period</td>\n",
       "      <td>f</td>\n",
       "      <td>f</td>\n",
       "      <td>1</td>\n",
       "      <td>1</td>\n",
       "      <td>0</td>\n",
       "      <td>0</td>\n",
       "      <td>0.46</td>\n",
       "    </tr>\n",
       "  </tbody>\n",
       "</table>\n",
       "</div>"
      ],
      "text/plain": [
       "      id                         listing_url       scrape_id last_scraped  \\\n",
       "0  14842  https://www.airbnb.com/rooms/14842  20190122134607   2019-01-22   \n",
       "\n",
       "                                                name  \\\n",
       "0  Best location Portobello entire house, can sle...   \n",
       "\n",
       "                                             summary  \\\n",
       "0  Beautiful entire house, newly revamped, with s...   \n",
       "\n",
       "                                               space  \\\n",
       "0  Gorgeous, newly revamped central Dublin city e...   \n",
       "\n",
       "                                         description experiences_offered  \\\n",
       "0  Beautiful entire house, newly revamped, with s...                none   \n",
       "\n",
       "                               neighborhood_overview notes  \\\n",
       "0  Portobello is an exceptional place to live - v...   NaN   \n",
       "\n",
       "                                             transit  \\\n",
       "0  There is great public transport - buses, Luas,...   \n",
       "\n",
       "                                      access  \\\n",
       "0  Guests get the whole house to themselves.   \n",
       "\n",
       "                                         interaction  \\\n",
       "0  I love meeting guests and I give you extensive...   \n",
       "\n",
       "                                         house_rules  thumbnail_url  \\\n",
       "0  This house is a charming space, just completel...            NaN   \n",
       "\n",
       "   medium_url                                        picture_url  \\\n",
       "0         NaN  https://a0.muscache.com/im/pictures/106656330/...   \n",
       "\n",
       "   xl_picture_url  host_id                                 host_url host_name  \\\n",
       "0             NaN    58344  https://www.airbnb.com/users/show/58344    Hilary   \n",
       "\n",
       "   host_since                   host_location  \\\n",
       "0  2009-11-29  Dublin, County Dublin, Ireland   \n",
       "\n",
       "                                          host_about host_response_time  \\\n",
       "0  An easy-going and friendly Irish woman. Works ...     within an hour   \n",
       "\n",
       "  host_response_rate  host_acceptance_rate host_is_superhost  \\\n",
       "0               100%                   NaN                 t   \n",
       "\n",
       "                                  host_thumbnail_url  \\\n",
       "0  https://a0.muscache.com/im/users/58344/profile...   \n",
       "\n",
       "                                    host_picture_url host_neighbourhood  \\\n",
       "0  https://a0.muscache.com/im/users/58344/profile...                NaN   \n",
       "\n",
       "   host_listings_count  host_total_listings_count  \\\n",
       "0                    1                          1   \n",
       "\n",
       "                                  host_verifications host_has_profile_pic  \\\n",
       "0  ['email', 'phone', 'facebook', 'reviews', 'jum...                    t   \n",
       "\n",
       "  host_identity_verified                        street neighbourhood  \\\n",
       "0                      f  Dublin, Dublin City, Ireland    Portobello   \n",
       "\n",
       "  neighbourhood_cleansed  neighbourhood_group_cleansed    city        state  \\\n",
       "0            Dublin City                           NaN  Dublin  Dublin City   \n",
       "\n",
       "    zipcode  market   smart_location country_code  country   latitude  \\\n",
       "0  Dublin 8  Dublin  Dublin, Ireland           IE  Ireland  53.331057   \n",
       "\n",
       "   longitude is_location_exact property_type        room_type  accommodates  \\\n",
       "0  -6.269163                 f         House  Entire home/apt             3   \n",
       "\n",
       "   bathrooms  bedrooms  beds  bed_type  \\\n",
       "0        1.0       1.0   1.0  Real Bed   \n",
       "\n",
       "                                           amenities  square_feet    price  \\\n",
       "0  {TV,Internet,Wifi,Kitchen,Heating,\"Family/kid ...          0.0  $119.00   \n",
       "\n",
       "  weekly_price monthly_price security_deposit cleaning_fee  guests_included  \\\n",
       "0          NaN           NaN          $500.00       $60.00                2   \n",
       "\n",
       "  extra_people  minimum_nights  maximum_nights  minimum_minimum_nights  \\\n",
       "0       $30.00              20              31                      20   \n",
       "\n",
       "   maximum_minimum_nights  minimum_maximum_nights  maximum_maximum_nights  \\\n",
       "0                      20                      31                      31   \n",
       "\n",
       "   minimum_nights_avg_ntm  maximum_nights_avg_ntm calendar_updated  \\\n",
       "0                    20.0                    31.0       3 days ago   \n",
       "\n",
       "  has_availability  availability_30  availability_60  availability_90  \\\n",
       "0                t                2                2                5   \n",
       "\n",
       "   availability_365 calendar_last_scraped  number_of_reviews  \\\n",
       "0                 5            2019-01-22                 42   \n",
       "\n",
       "   number_of_reviews_ltm first_review last_review  review_scores_rating  \\\n",
       "0                     16   2011-07-11  2019-01-02                  95.0   \n",
       "\n",
       "   review_scores_accuracy  review_scores_cleanliness  review_scores_checkin  \\\n",
       "0                    10.0                        9.0                   10.0   \n",
       "\n",
       "   review_scores_communication  review_scores_location  review_scores_value  \\\n",
       "0                         10.0                    10.0                  9.0   \n",
       "\n",
       "  requires_license license  jurisdiction_names instant_bookable  \\\n",
       "0                f     NaN                 NaN                f   \n",
       "\n",
       "  is_business_travel_ready          cancellation_policy  \\\n",
       "0                        f  strict_14_with_grace_period   \n",
       "\n",
       "  require_guest_profile_picture require_guest_phone_verification  \\\n",
       "0                             f                                f   \n",
       "\n",
       "   calculated_host_listings_count  \\\n",
       "0                               1   \n",
       "\n",
       "   calculated_host_listings_count_entire_homes  \\\n",
       "0                                            1   \n",
       "\n",
       "   calculated_host_listings_count_private_rooms  \\\n",
       "0                                             0   \n",
       "\n",
       "   calculated_host_listings_count_shared_rooms  reviews_per_month  \n",
       "0                                            0               0.46  "
      ]
     },
     "execution_count": 5,
     "metadata": {},
     "output_type": "execute_result"
    }
   ],
   "source": [
    "data_extended.head(1)"
   ]
  },
  {
   "cell_type": "markdown",
   "metadata": {},
   "source": [
    "## Cleaning some of the input data"
   ]
  },
  {
   "cell_type": "code",
   "execution_count": 6,
   "metadata": {},
   "outputs": [],
   "source": [
    "#Rename some of the longer names of neighbourhoods to facilate plotting later on a Tableau Map of the city \n",
    "\n",
    "data_extended['host_neighbourhood'].replace('Grafton Street/St. Stephens Green','St. Stephens Green', inplace=True)\n",
    "data_extended['host_neighbourhood'].replace('North City Central/O\\'Connell Street','North City Central', inplace=True)\n",
    "\n"
   ]
  },
  {
   "cell_type": "code",
   "execution_count": 7,
   "metadata": {},
   "outputs": [],
   "source": [
    "#Clean up the price column\n",
    "#1. Get rid of dollar signs and commas\n",
    "#2. Convert to floats\n",
    "#3. Investigate outliers\n",
    "\n",
    "#1. Get rid of dollar signs and commas\n",
    "#2. Convert to floats\n",
    "data_extended['price'] = data_extended['price'].replace('[^.0-9]', '', regex=True).astype(float)\n",
    "\n",
    "#3. Investigate outliers\n",
    "#Looking at outliers greater than 1000 dollars per night: There are 6 of these. I get rid of all six because..\n",
    "#Two have broken links. Can't guarantee their integrity\n",
    "#Three were found to be erroneous prices somehow. \n",
    "#One was a correct listings (very fancy rental). However this will skew results in its neighbourhood as it's..\n",
    "#price is significantly than anything else in Dublin.\n",
    "#??I should really dig into some of the rentals in the 500 to 1000 dollar branket to investigate.\n",
    "data_extended = data_extended[~(data_extended['price'] > 1000)]"
   ]
  },
  {
   "cell_type": "markdown",
   "metadata": {},
   "source": [
    "## Helper Functions"
   ]
  },
  {
   "cell_type": "code",
   "execution_count": 8,
   "metadata": {},
   "outputs": [],
   "source": [
    "def get_list_of_infrequent_values(data, min_freq=10):\n",
    "    \n",
    "    \"\"\"\n",
    "    Creates a list of the most infrequent values of a column. \n",
    "\n",
    "    Args:\n",
    "        data: Series to be investigated.\n",
    "        min_freq: Below this threshold value will be included in infrequent list (default = 10).\n",
    "    \n",
    "    Returns:\n",
    "        A list of all infrequent values in data.\n",
    "    \"\"\"\n",
    "    v_counts = data.value_counts()\n",
    "    uncommon_list = list(v_counts[v_counts < min_freq].index)    \n",
    "    return uncommon_list"
   ]
  },
  {
   "cell_type": "markdown",
   "metadata": {},
   "source": [
    "## Get geographic coordinates for each neighbourhood\n",
    "\n",
    "Geographic coordinates will be needed later when results are being plotted on a map of the city in Tableau. The method used here is to take all rental properties labelled with the neighbourhood in the database and to average both their latititude and their longitude. The averages are used as the cordinates for the neighbourhood.\n"
   ]
  },
  {
   "cell_type": "code",
   "execution_count": 9,
   "metadata": {},
   "outputs": [],
   "source": [
    "#create a copy of the data_extended data.\n",
    "data_coord = data_extended.copy()"
   ]
  },
  {
   "cell_type": "code",
   "execution_count": 10,
   "metadata": {},
   "outputs": [],
   "source": [
    "#1. Remove rows that have NaN for neighbourhood and coordinates\n",
    "data_coord.dropna(subset=['host_neighbourhood', 'latitude', 'longitude'], inplace=True)"
   ]
  },
  {
   "cell_type": "code",
   "execution_count": 11,
   "metadata": {},
   "outputs": [
    {
     "name": "stdout",
     "output_type": "stream",
     "text": [
      "['Donnycarney', 'Grace Park', 'De Pijp', 'Ixelles', 'Downtown Montreal', 'Richmond District', 'Fulham', 'Kilmore', 'MLK & 183', 'Woluwe-Saint-Lambert', 'Edenmore', 'LB of Haringey', 'Marine Parade', 'West Village', 'Rose Bay/Dover Heights', 'Oud-West', 'Tour Eiffel - Champ de Mars', 'Passy', 'Saint-Germain-des-Prés - Odéon', 'Opéra - Grands Boulevards', 'Auteuil', 'French Riviera']\n"
     ]
    }
   ],
   "source": [
    "#Get rid of neighbourhoods that dont have enough samples\n",
    "\n",
    "#The min number of times the neighbourhood needs to feature in the list to be considered for comparision \n",
    "min_freq = 5\n",
    "\n",
    "ignore_these_areas = get_list_of_infrequent_values(data_coord['host_neighbourhood'] , min_freq)\n",
    "print(ignore_these_areas)\n",
    "\n",
    "#get rid of the datapoints that are in the neigbourhoods to be ignored\n",
    "data_coord_clean = data_coord[~data_coord['host_neighbourhood'].isin(ignore_these_areas)].copy()\n",
    "\n",
    "#Remove a couple of specific neighbourhoods (ones that should not be included in the Dublin data)\n",
    "data_coord_clean = data_coord_clean[~(data_coord_clean['host_neighbourhood'].isin(['Terézváros - District VI.', 'Isle of Dogs']))]"
   ]
  },
  {
   "cell_type": "code",
   "execution_count": 12,
   "metadata": {},
   "outputs": [],
   "source": [
    "coord_groups = data_coord_clean[['latitude', 'longitude']].groupby(data_coord_clean['host_neighbourhood'])\n",
    "coordinates = coord_groups.mean()"
   ]
  },
  {
   "cell_type": "markdown",
   "metadata": {},
   "source": [
    "## Fill in missing values for neighbourhoods\n",
    "\n",
    "Around 33% of the host neighbourhoods are missing. We can fill this data in by using the geographic coordinates caculated above to see which neighbourhood is nearest.\n",
    "\n",
    "However, for this analysis, I consider the sample of 6362 rentals in Dublin to be sufficient for comparing average ratings in the different neighbourhoods."
   ]
  },
  {
   "cell_type": "code",
   "execution_count": 13,
   "metadata": {},
   "outputs": [
    {
     "data": {
      "text/plain": [
       "(9511, 106)"
      ]
     },
     "execution_count": 13,
     "metadata": {},
     "output_type": "execute_result"
    }
   ],
   "source": [
    "data_extended.shape"
   ]
  },
  {
   "cell_type": "code",
   "execution_count": 14,
   "metadata": {},
   "outputs": [
    {
     "data": {
      "text/plain": [
       "3155"
      ]
     },
     "execution_count": 14,
     "metadata": {},
     "output_type": "execute_result"
    }
   ],
   "source": [
    "data_extended['host_neighbourhood'].isna().sum()"
   ]
  },
  {
   "cell_type": "markdown",
   "metadata": {},
   "source": [
    "## What are the most expensive areas of the city to rent an Airbnb property?\n",
    "\n",
    "The aim here is, for each neighbourhood, to break down the rentals into private rooms, single bed apartments, and 2 bed apartments. Then, for each of the 3 categories get an average. The average of these 3 averages will be used to represent the average cost of a rental for that area.\n",
    "\n",
    "Neighbourhoods get dumped from the statistics if they dont have a minimum number of properties in the 3 categories mentioned above: private rooms, single bedroom house/apt and double bedroom house/apt. This is a bit rough as we are losing the oppurtunity to report on some of those neighbourhoods. Some form of imputing could have been considered when averaging the results if one of the categories was missing.\n"
   ]
  },
  {
   "cell_type": "markdown",
   "metadata": {},
   "source": [
    "The get_average_per_neighbourhood() function can be used with the Airbnb data for any city. Data is available at the following location: http://insideairbnb.com/get-the-data.html."
   ]
  },
  {
   "cell_type": "code",
   "execution_count": 15,
   "metadata": {},
   "outputs": [],
   "source": [
    "def get_average_per_neighbourhood(city_data_listings, column, min_freq_of_neighbourhood ):\n",
    "    \"\"\"\n",
    "    Gets the average value of ratings_column grouped by values of 'host_neighbourhood'. \n",
    "\n",
    "    Args:\n",
    "        city_data_listings: Dataframe to be investigated.\n",
    "        column: The column to get the average of.\n",
    "        min_freq_of_neighbourhood: Below this threshold of frequency neighbourhoods will be removed(default = 10).\n",
    "    Returns:\n",
    "        Series of means for each neighbourhood in the dataset.\n",
    "    \"\"\"\n",
    "    #The min number of times the neighbourhood needs to feature in the list to be considered for comparision \n",
    "    \n",
    "    #create a copy of the data_extended data\n",
    "    #and then this function will work on the data inplace\n",
    "    city_data = city_data_listings.copy()\n",
    "    \n",
    "    #Remove rows that have NaN for neighbourhood\n",
    "    city_data.dropna(subset=['host_neighbourhood'], inplace=True)\n",
    "\n",
    "    #Remove rows that have NaN for Location Rating\n",
    "    city_data.dropna(subset=[column], inplace=True) \n",
    "    \n",
    "    #Get rid of neighbourhoods that dont have enough samples   \n",
    "    ignore_these_areas = get_list_of_infrequent_values(city_data['host_neighbourhood'] , min_freq_of_neighbourhood)\n",
    "    #print(ignore_these_areas)\n",
    "    #get rid of the datapoints that are in the neigbourhoods to be ignored\n",
    "    city_data = city_data[~city_data['host_neighbourhood'].isin(ignore_these_areas)]\n",
    "    \n",
    "    #Group the rentals into neighbourhoods and then get the means for each neighbourhood\n",
    "    rating_groups = city_data[column].groupby(city_data['host_neighbourhood'])\n",
    "    ratings = rating_groups.mean()\n",
    "    \n",
    "    return ratings\n"
   ]
  },
  {
   "cell_type": "code",
   "execution_count": 16,
   "metadata": {},
   "outputs": [],
   "source": [
    "#Calculate the average price for 3 different datasets (one for each of the rental type categories that we are considering)\n",
    "groups_privateroom = get_average_per_neighbourhood(data_extended[data_extended['room_type'] == 'Private room'], 'price', 5)\n",
    "groups_entire_1bed = get_average_per_neighbourhood(data_extended[(data_extended['room_type'] == 'Entire home/apt') & (data_extended['bedrooms'] == 1.0)], 'price', 5)\n",
    "groups_entire_2bed = get_average_per_neighbourhood(data_extended[(data_extended['room_type'] == 'Entire home/apt') & (data_extended['bedrooms'] == 2.0)], 'price', 5)\n"
   ]
  },
  {
   "cell_type": "code",
   "execution_count": 17,
   "metadata": {},
   "outputs": [
    {
     "data": {
      "text/plain": [
       "(1887, 106)"
      ]
     },
     "execution_count": 17,
     "metadata": {},
     "output_type": "execute_result"
    }
   ],
   "source": [
    "data_extended[(data_extended['room_type'] == 'Entire home/apt') & (data_extended['bedrooms'] == 2.0)].shape"
   ]
  },
  {
   "cell_type": "code",
   "execution_count": 18,
   "metadata": {},
   "outputs": [],
   "source": [
    "#Calculate an average across the 3 property types\n",
    "averages = (groups_privateroom+ groups_entire_1bed + groups_entire_2bed)/3\n",
    "#Remove some neighbourhoods that did not qualify for all three categories of rental\n",
    "averages = averages.dropna()\n",
    "\n",
    "#Convert from dollar to Euro (roughly using price of 22nd March 2019) \n",
    "#..and convert to int to faciliate clear display in Tableau\n",
    "averages = (averages * 0.89).map('{:,.0f}'.format)\n",
    "#'{:,.0f}'.format\n"
   ]
  },
  {
   "cell_type": "markdown",
   "metadata": {},
   "source": [
    "## Which areas get the best average location rating score?"
   ]
  },
  {
   "cell_type": "code",
   "execution_count": 20,
   "metadata": {},
   "outputs": [],
   "source": [
    "ratings = get_average_per_neighbourhood(data_extended, 'review_scores_location', 20)"
   ]
  },
  {
   "cell_type": "markdown",
   "metadata": {},
   "source": [
    "## Save neighbourhood average cost and ratings to a file\n",
    "\n",
    "Write to a CSV file for export to facilite Tableau Map generation.\n",
    "\n",
    "1. First work out what the commom neighbourhoods for both data structures is as we don't want incomplete data for a neighbourgood in our Tableau map plots.\n",
    "2. For each neighbourhood in the ratings table write the coordinates of the neighbourhood, the average cost of the neighbourhood and the average ratings for that neighbourhood. \n"
   ]
  },
  {
   "cell_type": "code",
   "execution_count": 21,
   "metadata": {},
   "outputs": [],
   "source": [
    "neighbourhoods_of_interest = list(set(ratings.index) & set(averages.index))\n",
    "#extract relevent coordinates\n",
    "data_with_coords = coordinates[ coordinates.index.isin(neighbourhoods_of_interest) ].copy()\n",
    "#Combine average cost with the corordinates data\n",
    "data_with_coords['cost'] = averages.values[averages.index.isin(neighbourhoods_of_interest)]\n",
    "#Combine ratings with the corordinates data\n",
    "data_with_coords['rating'] = ratings.values[ratings.index.isin(neighbourhoods_of_interest)]\n",
    "\n",
    "\n",
    "#Write the ratings and coordinates to a file\n",
    "data_with_coords.to_csv(output_directory + file_cost_and_ratings_out)"
   ]
  },
  {
   "cell_type": "code",
   "execution_count": 23,
   "metadata": {},
   "outputs": [
    {
     "data": {
      "text/html": [
       "<div>\n",
       "<style scoped>\n",
       "    .dataframe tbody tr th:only-of-type {\n",
       "        vertical-align: middle;\n",
       "    }\n",
       "\n",
       "    .dataframe tbody tr th {\n",
       "        vertical-align: top;\n",
       "    }\n",
       "\n",
       "    .dataframe thead th {\n",
       "        text-align: right;\n",
       "    }\n",
       "</style>\n",
       "<table border=\"1\" class=\"dataframe\">\n",
       "  <thead>\n",
       "    <tr style=\"text-align: right;\">\n",
       "      <th></th>\n",
       "      <th>latitude</th>\n",
       "      <th>longitude</th>\n",
       "      <th>cost</th>\n",
       "      <th>rating</th>\n",
       "    </tr>\n",
       "    <tr>\n",
       "      <th>host_neighbourhood</th>\n",
       "      <th></th>\n",
       "      <th></th>\n",
       "      <th></th>\n",
       "      <th></th>\n",
       "    </tr>\n",
       "  </thead>\n",
       "  <tbody>\n",
       "    <tr>\n",
       "      <th>Ballsbridge</th>\n",
       "      <td>53.332205</td>\n",
       "      <td>-6.237782</td>\n",
       "      <td>123</td>\n",
       "      <td>9.709360</td>\n",
       "    </tr>\n",
       "    <tr>\n",
       "      <th>Ballybough</th>\n",
       "      <td>53.366412</td>\n",
       "      <td>-6.250759</td>\n",
       "      <td>70</td>\n",
       "      <td>9.066667</td>\n",
       "    </tr>\n",
       "    <tr>\n",
       "      <th>Blackrock</th>\n",
       "      <td>53.296121</td>\n",
       "      <td>-6.186532</td>\n",
       "      <td>82</td>\n",
       "      <td>9.411765</td>\n",
       "    </tr>\n",
       "    <tr>\n",
       "      <th>Booterstown</th>\n",
       "      <td>53.322641</td>\n",
       "      <td>-6.207669</td>\n",
       "      <td>87</td>\n",
       "      <td>9.558824</td>\n",
       "    </tr>\n",
       "    <tr>\n",
       "      <th>Cabra</th>\n",
       "      <td>53.361038</td>\n",
       "      <td>-6.287818</td>\n",
       "      <td>81</td>\n",
       "      <td>9.098592</td>\n",
       "    </tr>\n",
       "  </tbody>\n",
       "</table>\n",
       "</div>"
      ],
      "text/plain": [
       "                     latitude  longitude cost    rating\n",
       "host_neighbourhood                                     \n",
       "Ballsbridge         53.332205  -6.237782  123  9.709360\n",
       "Ballybough          53.366412  -6.250759   70  9.066667\n",
       "Blackrock           53.296121  -6.186532   82  9.411765\n",
       "Booterstown         53.322641  -6.207669   87  9.558824\n",
       "Cabra               53.361038  -6.287818   81  9.098592"
      ]
     },
     "execution_count": 23,
     "metadata": {},
     "output_type": "execute_result"
    }
   ],
   "source": [
    "data_with_coords.head(5)"
   ]
  },
  {
   "cell_type": "markdown",
   "metadata": {},
   "source": [
    "## What's the average price over the year?\n"
   ]
  },
  {
   "cell_type": "code",
   "execution_count": 118,
   "metadata": {},
   "outputs": [],
   "source": [
    "#in order to plot the price over the entire year of 2019 i needed 2 calendar files from Inside Airbnb. The first, was..\n",
    "#the most recent avaialable and covers Jan 22 2019 t0 Jan 21 2019. I also needed an older one from December 2018 to..\n",
    "#cover the first 21 days of 2019 tht I was missing\n",
    "\n",
    "calendar_file1 = \"calendar_2019_01_22.csv\"\n",
    "#calendar_file2 = \"calendar_2018_12_16.csv\"\n",
    "#calendar_file3 = \"calendar_2018_11_18.csv\"\n",
    "\n",
    "\n",
    "# Note: Unfortunetly there seems to be a discontinuity in the way that the data was colleted from file to file.\n",
    "# As a result it is impossible to compare the most recent file with the older ones as thet average prices are..\n",
    "#quite different. Therefore I end up only plotting the most recent calander file.\n",
    "\n",
    "#Also note: This file, by itself,  does not truly represent the average price throughout the year. Rather, they represent the..\n",
    "#the host's advertised prices for the entire year on one given day. Indtead data should be continuously colllected..\n",
    "#perhaps every 2 months and compose the yearly outlook from that the combined files.\n",
    "\n"
   ]
  },
  {
   "cell_type": "code",
   "execution_count": 128,
   "metadata": {},
   "outputs": [],
   "source": [
    "def transform_calendar_file(filename, data_dir):\n",
    "        \"\"\"\n",
    "        Gets the mean price and convert to Euros a calendar file from insideairbnb.com \n",
    "\n",
    "        Args:\n",
    "            filename: The calendar filename\n",
    "            data_driectory: The directory that the file is located.\n",
    "    \n",
    "        Returns:\n",
    "            A series with the mean for each day in the input file.\n",
    "        \"\"\"\n",
    "        data_calendar = pd.read_csv(data_dir + filename)\n",
    "        data_price = data_calendar.copy()\n",
    "        #Get rid of dollar signs and commas\n",
    "        #Convert to floats\n",
    "        data_price['price'] = data_price['price'].replace('[^.0-9]', '', regex=True).astype(float)\n",
    "        #Convert to euros using todays exchange rate (23rd March 2019)\n",
    "        data_price['price'] = data_price['price'] * 0.89\n",
    "        #Group means for each day\n",
    "        mean_prices = data_price['price'].groupby(data_price['date']).mean()\n",
    "        return mean_prices.copy()"
   ]
  },
  {
   "cell_type": "code",
   "execution_count": 129,
   "metadata": {},
   "outputs": [],
   "source": [
    "mean_prices1 = transform_calendar_file(calendar_file1, data_directory)\n",
    "#Note: No longer using the following file as it the averages are discontinusous from the above file so don't merge well \n",
    "#mean_prices2 = transform_calendar_file(calendar_file2, data_directory) "
   ]
  },
  {
   "cell_type": "code",
   "execution_count": 112,
   "metadata": {},
   "outputs": [],
   "source": [
    "#Extract the relevant dtes from the 2 data inputs to construct an df for the entire year\n",
    "#Note: This code is only relvent if merging multiple input calendar files\n",
    "mean_prices_2019 = mean_prices1['2019-01-01':'2019-01-21'].copy()\n",
    "mean_prices_2019 = mean_prices_2019.append(mean_prices1['2019-01-22':'2019-12-31'])"
   ]
  },
  {
   "cell_type": "code",
   "execution_count": 131,
   "metadata": {},
   "outputs": [
    {
     "data": {
      "image/png": "[encoded data removed]",
      "text/plain": [
       "<Figure size 432x288 with 1 Axes>"
      ]
     },
     "metadata": {
      "needs_background": "light"
     },
     "output_type": "display_data"
    }
   ],
   "source": [
    "#import matplotlib.ticker as ticker\n",
    "\n",
    "startdate = datetime(2019,1,22)\n",
    "date_list = [startdate + timedelta(days=x) for x in range(0, 365-21)]\n",
    "\n",
    "# Set the locator\n",
    "locator = mdates.MonthLocator()  # every month\n",
    "# Specify the format - %b gives us Jan, Feb...\n",
    "fmt = mdates.DateFormatter('%b')\n",
    "\n",
    "fig = plt.figure()\n",
    "f = fig.add_subplot(1,1,1)\n",
    "ax = fig.gca().xaxis\n",
    "f.plot(date_list,mean_prices1['2019-01-22':'2019-12-31'].values)\n",
    "ax.set_major_locator(locator)\n",
    "ax.set_major_formatter(fmt)\n",
    "plt.show()"
   ]
  }
 ],
 "metadata": {
  "kernelspec": {
   "display_name": "Python 3",
   "language": "python",
   "name": "python3"
  },
  "language_info": {
   "codemirror_mode": {
    "name": "ipython",
    "version": 3
   },
   "file_extension": ".py",
   "mimetype": "text/x-python",
   "name": "python",
   "nbconvert_exporter": "python",
   "pygments_lexer": "ipython3",
   "version": "3.7.2"
  }
 },
 "nbformat": 4,
 "nbformat_minor": 2
}
