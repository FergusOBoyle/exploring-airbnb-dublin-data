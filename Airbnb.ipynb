{
 "cells": [
  {
   "cell_type": "code",
   "execution_count": 3,
   "metadata": {},
   "outputs": [],
   "source": [
    "import numpy as np\n",
    "import pandas as pd\n",
    "import seaborn as sns\n",
    "from time import time\n",
    "from IPython.display import display # Allows the use of display() for DataFrames\n",
    "import matplotlib.pyplot as plt\n",
    "from sklearn.preprocessing import MinMaxScaler\n",
    "from sklearn.preprocessing import StandardScaler\n",
    "from sklearn.model_selection import train_test_split\n",
    "\n",
    "# Pretty display for notebooks\n",
    "%matplotlib inline\n"
   ]
  },
  {
   "cell_type": "code",
   "execution_count": 22,
   "metadata": {},
   "outputs": [],
   "source": [
    "#Parameters\n",
    "data_directory = \"./data/\"\n",
    "output_directory = \"./out/\"\n",
    "\n",
    "input_file = \"listings.csv\"\n",
    "file_coords_out = \"neighbourhood_coordinates.csv\"\n",
    "file_ratings_out  = \"neighbourhood_ratings.csv\""
   ]
  },
  {
   "cell_type": "code",
   "execution_count": 23,
   "metadata": {},
   "outputs": [],
   "source": [
    "#Open data file\n",
    "data_extended = pd.read_csv(data_directory + input_file)\n"
   ]
  },
  {
   "cell_type": "code",
   "execution_count": 24,
   "metadata": {},
   "outputs": [],
   "source": [
    "pd.set_option('display.max_columns', 500)"
   ]
  },
  {
   "cell_type": "code",
   "execution_count": 25,
   "metadata": {},
   "outputs": [
    {
     "data": {
      "text/html": [
       "<div>\n",
       "<style scoped>\n",
       "    .dataframe tbody tr th:only-of-type {\n",
       "        vertical-align: middle;\n",
       "    }\n",
       "\n",
       "    .dataframe tbody tr th {\n",
       "        vertical-align: top;\n",
       "    }\n",
       "\n",
       "    .dataframe thead th {\n",
       "        text-align: right;\n",
       "    }\n",
       "</style>\n",
       "<table border=\"1\" class=\"dataframe\">\n",
       "  <thead>\n",
       "    <tr style=\"text-align: right;\">\n",
       "      <th></th>\n",
       "      <th>id</th>\n",
       "      <th>listing_url</th>\n",
       "      <th>scrape_id</th>\n",
       "      <th>last_scraped</th>\n",
       "      <th>name</th>\n",
       "      <th>summary</th>\n",
       "      <th>space</th>\n",
       "      <th>description</th>\n",
       "      <th>experiences_offered</th>\n",
       "      <th>neighborhood_overview</th>\n",
       "      <th>notes</th>\n",
       "      <th>transit</th>\n",
       "      <th>access</th>\n",
       "      <th>interaction</th>\n",
       "      <th>house_rules</th>\n",
       "      <th>thumbnail_url</th>\n",
       "      <th>medium_url</th>\n",
       "      <th>picture_url</th>\n",
       "      <th>xl_picture_url</th>\n",
       "      <th>host_id</th>\n",
       "      <th>host_url</th>\n",
       "      <th>host_name</th>\n",
       "      <th>host_since</th>\n",
       "      <th>host_location</th>\n",
       "      <th>host_about</th>\n",
       "      <th>host_response_time</th>\n",
       "      <th>host_response_rate</th>\n",
       "      <th>host_acceptance_rate</th>\n",
       "      <th>host_is_superhost</th>\n",
       "      <th>host_thumbnail_url</th>\n",
       "      <th>host_picture_url</th>\n",
       "      <th>host_neighbourhood</th>\n",
       "      <th>host_listings_count</th>\n",
       "      <th>host_total_listings_count</th>\n",
       "      <th>host_verifications</th>\n",
       "      <th>host_has_profile_pic</th>\n",
       "      <th>host_identity_verified</th>\n",
       "      <th>street</th>\n",
       "      <th>neighbourhood</th>\n",
       "      <th>neighbourhood_cleansed</th>\n",
       "      <th>neighbourhood_group_cleansed</th>\n",
       "      <th>city</th>\n",
       "      <th>state</th>\n",
       "      <th>zipcode</th>\n",
       "      <th>market</th>\n",
       "      <th>smart_location</th>\n",
       "      <th>country_code</th>\n",
       "      <th>country</th>\n",
       "      <th>latitude</th>\n",
       "      <th>longitude</th>\n",
       "      <th>is_location_exact</th>\n",
       "      <th>property_type</th>\n",
       "      <th>room_type</th>\n",
       "      <th>accommodates</th>\n",
       "      <th>bathrooms</th>\n",
       "      <th>bedrooms</th>\n",
       "      <th>beds</th>\n",
       "      <th>bed_type</th>\n",
       "      <th>amenities</th>\n",
       "      <th>square_feet</th>\n",
       "      <th>price</th>\n",
       "      <th>weekly_price</th>\n",
       "      <th>monthly_price</th>\n",
       "      <th>security_deposit</th>\n",
       "      <th>cleaning_fee</th>\n",
       "      <th>guests_included</th>\n",
       "      <th>extra_people</th>\n",
       "      <th>minimum_nights</th>\n",
       "      <th>maximum_nights</th>\n",
       "      <th>minimum_minimum_nights</th>\n",
       "      <th>maximum_minimum_nights</th>\n",
       "      <th>minimum_maximum_nights</th>\n",
       "      <th>maximum_maximum_nights</th>\n",
       "      <th>minimum_nights_avg_ntm</th>\n",
       "      <th>maximum_nights_avg_ntm</th>\n",
       "      <th>calendar_updated</th>\n",
       "      <th>has_availability</th>\n",
       "      <th>availability_30</th>\n",
       "      <th>availability_60</th>\n",
       "      <th>availability_90</th>\n",
       "      <th>availability_365</th>\n",
       "      <th>calendar_last_scraped</th>\n",
       "      <th>number_of_reviews</th>\n",
       "      <th>number_of_reviews_ltm</th>\n",
       "      <th>first_review</th>\n",
       "      <th>last_review</th>\n",
       "      <th>review_scores_rating</th>\n",
       "      <th>review_scores_accuracy</th>\n",
       "      <th>review_scores_cleanliness</th>\n",
       "      <th>review_scores_checkin</th>\n",
       "      <th>review_scores_communication</th>\n",
       "      <th>review_scores_location</th>\n",
       "      <th>review_scores_value</th>\n",
       "      <th>requires_license</th>\n",
       "      <th>license</th>\n",
       "      <th>jurisdiction_names</th>\n",
       "      <th>instant_bookable</th>\n",
       "      <th>is_business_travel_ready</th>\n",
       "      <th>cancellation_policy</th>\n",
       "      <th>require_guest_profile_picture</th>\n",
       "      <th>require_guest_phone_verification</th>\n",
       "      <th>calculated_host_listings_count</th>\n",
       "      <th>calculated_host_listings_count_entire_homes</th>\n",
       "      <th>calculated_host_listings_count_private_rooms</th>\n",
       "      <th>calculated_host_listings_count_shared_rooms</th>\n",
       "      <th>reviews_per_month</th>\n",
       "    </tr>\n",
       "  </thead>\n",
       "  <tbody>\n",
       "    <tr>\n",
       "      <th>0</th>\n",
       "      <td>14842</td>\n",
       "      <td>https://www.airbnb.com/rooms/14842</td>\n",
       "      <td>20190122134607</td>\n",
       "      <td>2019-01-22</td>\n",
       "      <td>Best location Portobello entire house, can sle...</td>\n",
       "      <td>Beautiful entire house, newly revamped, with s...</td>\n",
       "      <td>Gorgeous, newly revamped central Dublin city e...</td>\n",
       "      <td>Beautiful entire house, newly revamped, with s...</td>\n",
       "      <td>none</td>\n",
       "      <td>Portobello is an exceptional place to live - v...</td>\n",
       "      <td>NaN</td>\n",
       "      <td>There is great public transport - buses, Luas,...</td>\n",
       "      <td>Guests get the whole house to themselves.</td>\n",
       "      <td>I love meeting guests and I give you extensive...</td>\n",
       "      <td>This house is a charming space, just completel...</td>\n",
       "      <td>NaN</td>\n",
       "      <td>NaN</td>\n",
       "      <td>https://a0.muscache.com/im/pictures/106656330/...</td>\n",
       "      <td>NaN</td>\n",
       "      <td>58344</td>\n",
       "      <td>https://www.airbnb.com/users/show/58344</td>\n",
       "      <td>Hilary</td>\n",
       "      <td>2009-11-29</td>\n",
       "      <td>Dublin, County Dublin, Ireland</td>\n",
       "      <td>An easy-going and friendly Irish woman. Works ...</td>\n",
       "      <td>within an hour</td>\n",
       "      <td>100%</td>\n",
       "      <td>NaN</td>\n",
       "      <td>t</td>\n",
       "      <td>https://a0.muscache.com/im/users/58344/profile...</td>\n",
       "      <td>https://a0.muscache.com/im/users/58344/profile...</td>\n",
       "      <td>NaN</td>\n",
       "      <td>1</td>\n",
       "      <td>1</td>\n",
       "      <td>['email', 'phone', 'facebook', 'reviews', 'jum...</td>\n",
       "      <td>t</td>\n",
       "      <td>f</td>\n",
       "      <td>Dublin, Dublin City, Ireland</td>\n",
       "      <td>Portobello</td>\n",
       "      <td>Dublin City</td>\n",
       "      <td>NaN</td>\n",
       "      <td>Dublin</td>\n",
       "      <td>Dublin City</td>\n",
       "      <td>Dublin 8</td>\n",
       "      <td>Dublin</td>\n",
       "      <td>Dublin, Ireland</td>\n",
       "      <td>IE</td>\n",
       "      <td>Ireland</td>\n",
       "      <td>53.331057</td>\n",
       "      <td>-6.269163</td>\n",
       "      <td>f</td>\n",
       "      <td>House</td>\n",
       "      <td>Entire home/apt</td>\n",
       "      <td>3</td>\n",
       "      <td>1.0</td>\n",
       "      <td>1.0</td>\n",
       "      <td>1.0</td>\n",
       "      <td>Real Bed</td>\n",
       "      <td>{TV,Internet,Wifi,Kitchen,Heating,\"Family/kid ...</td>\n",
       "      <td>0.0</td>\n",
       "      <td>$119.00</td>\n",
       "      <td>NaN</td>\n",
       "      <td>NaN</td>\n",
       "      <td>$500.00</td>\n",
       "      <td>$60.00</td>\n",
       "      <td>2</td>\n",
       "      <td>$30.00</td>\n",
       "      <td>20</td>\n",
       "      <td>31</td>\n",
       "      <td>20</td>\n",
       "      <td>20</td>\n",
       "      <td>31</td>\n",
       "      <td>31</td>\n",
       "      <td>20.0</td>\n",
       "      <td>31.0</td>\n",
       "      <td>3 days ago</td>\n",
       "      <td>t</td>\n",
       "      <td>2</td>\n",
       "      <td>2</td>\n",
       "      <td>5</td>\n",
       "      <td>5</td>\n",
       "      <td>2019-01-22</td>\n",
       "      <td>42</td>\n",
       "      <td>16</td>\n",
       "      <td>2011-07-11</td>\n",
       "      <td>2019-01-02</td>\n",
       "      <td>95.0</td>\n",
       "      <td>10.0</td>\n",
       "      <td>9.0</td>\n",
       "      <td>10.0</td>\n",
       "      <td>10.0</td>\n",
       "      <td>10.0</td>\n",
       "      <td>9.0</td>\n",
       "      <td>f</td>\n",
       "      <td>NaN</td>\n",
       "      <td>NaN</td>\n",
       "      <td>f</td>\n",
       "      <td>f</td>\n",
       "      <td>strict_14_with_grace_period</td>\n",
       "      <td>f</td>\n",
       "      <td>f</td>\n",
       "      <td>1</td>\n",
       "      <td>1</td>\n",
       "      <td>0</td>\n",
       "      <td>0</td>\n",
       "      <td>0.46</td>\n",
       "    </tr>\n",
       "  </tbody>\n",
       "</table>\n",
       "</div>"
      ],
      "text/plain": [
       "      id                         listing_url       scrape_id last_scraped  \\\n",
       "0  14842  https://www.airbnb.com/rooms/14842  20190122134607   2019-01-22   \n",
       "\n",
       "                                                name  \\\n",
       "0  Best location Portobello entire house, can sle...   \n",
       "\n",
       "                                             summary  \\\n",
       "0  Beautiful entire house, newly revamped, with s...   \n",
       "\n",
       "                                               space  \\\n",
       "0  Gorgeous, newly revamped central Dublin city e...   \n",
       "\n",
       "                                         description experiences_offered  \\\n",
       "0  Beautiful entire house, newly revamped, with s...                none   \n",
       "\n",
       "                               neighborhood_overview notes  \\\n",
       "0  Portobello is an exceptional place to live - v...   NaN   \n",
       "\n",
       "                                             transit  \\\n",
       "0  There is great public transport - buses, Luas,...   \n",
       "\n",
       "                                      access  \\\n",
       "0  Guests get the whole house to themselves.   \n",
       "\n",
       "                                         interaction  \\\n",
       "0  I love meeting guests and I give you extensive...   \n",
       "\n",
       "                                         house_rules  thumbnail_url  \\\n",
       "0  This house is a charming space, just completel...            NaN   \n",
       "\n",
       "   medium_url                                        picture_url  \\\n",
       "0         NaN  https://a0.muscache.com/im/pictures/106656330/...   \n",
       "\n",
       "   xl_picture_url  host_id                                 host_url host_name  \\\n",
       "0             NaN    58344  https://www.airbnb.com/users/show/58344    Hilary   \n",
       "\n",
       "   host_since                   host_location  \\\n",
       "0  2009-11-29  Dublin, County Dublin, Ireland   \n",
       "\n",
       "                                          host_about host_response_time  \\\n",
       "0  An easy-going and friendly Irish woman. Works ...     within an hour   \n",
       "\n",
       "  host_response_rate  host_acceptance_rate host_is_superhost  \\\n",
       "0               100%                   NaN                 t   \n",
       "\n",
       "                                  host_thumbnail_url  \\\n",
       "0  https://a0.muscache.com/im/users/58344/profile...   \n",
       "\n",
       "                                    host_picture_url host_neighbourhood  \\\n",
       "0  https://a0.muscache.com/im/users/58344/profile...                NaN   \n",
       "\n",
       "   host_listings_count  host_total_listings_count  \\\n",
       "0                    1                          1   \n",
       "\n",
       "                                  host_verifications host_has_profile_pic  \\\n",
       "0  ['email', 'phone', 'facebook', 'reviews', 'jum...                    t   \n",
       "\n",
       "  host_identity_verified                        street neighbourhood  \\\n",
       "0                      f  Dublin, Dublin City, Ireland    Portobello   \n",
       "\n",
       "  neighbourhood_cleansed  neighbourhood_group_cleansed    city        state  \\\n",
       "0            Dublin City                           NaN  Dublin  Dublin City   \n",
       "\n",
       "    zipcode  market   smart_location country_code  country   latitude  \\\n",
       "0  Dublin 8  Dublin  Dublin, Ireland           IE  Ireland  53.331057   \n",
       "\n",
       "   longitude is_location_exact property_type        room_type  accommodates  \\\n",
       "0  -6.269163                 f         House  Entire home/apt             3   \n",
       "\n",
       "   bathrooms  bedrooms  beds  bed_type  \\\n",
       "0        1.0       1.0   1.0  Real Bed   \n",
       "\n",
       "                                           amenities  square_feet    price  \\\n",
       "0  {TV,Internet,Wifi,Kitchen,Heating,\"Family/kid ...          0.0  $119.00   \n",
       "\n",
       "  weekly_price monthly_price security_deposit cleaning_fee  guests_included  \\\n",
       "0          NaN           NaN          $500.00       $60.00                2   \n",
       "\n",
       "  extra_people  minimum_nights  maximum_nights  minimum_minimum_nights  \\\n",
       "0       $30.00              20              31                      20   \n",
       "\n",
       "   maximum_minimum_nights  minimum_maximum_nights  maximum_maximum_nights  \\\n",
       "0                      20                      31                      31   \n",
       "\n",
       "   minimum_nights_avg_ntm  maximum_nights_avg_ntm calendar_updated  \\\n",
       "0                    20.0                    31.0       3 days ago   \n",
       "\n",
       "  has_availability  availability_30  availability_60  availability_90  \\\n",
       "0                t                2                2                5   \n",
       "\n",
       "   availability_365 calendar_last_scraped  number_of_reviews  \\\n",
       "0                 5            2019-01-22                 42   \n",
       "\n",
       "   number_of_reviews_ltm first_review last_review  review_scores_rating  \\\n",
       "0                     16   2011-07-11  2019-01-02                  95.0   \n",
       "\n",
       "   review_scores_accuracy  review_scores_cleanliness  review_scores_checkin  \\\n",
       "0                    10.0                        9.0                   10.0   \n",
       "\n",
       "   review_scores_communication  review_scores_location  review_scores_value  \\\n",
       "0                         10.0                    10.0                  9.0   \n",
       "\n",
       "  requires_license license  jurisdiction_names instant_bookable  \\\n",
       "0                f     NaN                 NaN                f   \n",
       "\n",
       "  is_business_travel_ready          cancellation_policy  \\\n",
       "0                        f  strict_14_with_grace_period   \n",
       "\n",
       "  require_guest_profile_picture require_guest_phone_verification  \\\n",
       "0                             f                                f   \n",
       "\n",
       "   calculated_host_listings_count  \\\n",
       "0                               1   \n",
       "\n",
       "   calculated_host_listings_count_entire_homes  \\\n",
       "0                                            1   \n",
       "\n",
       "   calculated_host_listings_count_private_rooms  \\\n",
       "0                                             0   \n",
       "\n",
       "   calculated_host_listings_count_shared_rooms  reviews_per_month  \n",
       "0                                            0               0.46  "
      ]
     },
     "execution_count": 25,
     "metadata": {},
     "output_type": "execute_result"
    }
   ],
   "source": [
    "data_extended.head(1)"
   ]
  },
  {
   "cell_type": "markdown",
   "metadata": {},
   "source": [
    "## Cleaning some of the input data"
   ]
  },
  {
   "cell_type": "code",
   "execution_count": 26,
   "metadata": {},
   "outputs": [],
   "source": [
    "#Rename some of the longer names of neighbourhoods to facilate plotting later on a Tableau Map of the city \n",
    "\n",
    "data_extended['host_neighbourhood'].replace('Grafton Street/St. Stephens Green','St. Stephens Green', inplace=True)\n",
    "data_extended['host_neighbourhood'].replace('North City Central/O\\'Connell Street','North City Central', inplace=True)\n",
    "\n"
   ]
  },
  {
   "cell_type": "code",
   "execution_count": 27,
   "metadata": {},
   "outputs": [],
   "source": [
    "#Clean up the price column\n",
    "#1. Get rid of dollar signs and commas\n",
    "#2. Convert to floats\n",
    "#3. Investigate outliers\n",
    "\n",
    "#1. Get rid of dollar signs and commas\n",
    "#2. Convert to floats\n",
    "data_extended['price'] = data_extended['price'].replace('[^.0-9]', '', regex=True).astype(float)\n",
    "\n",
    "#3. Investigate outliers\n",
    "#Looking at outliers greater than 1000 dollars per night: There are 6 of these. I get rid of all six because..\n",
    "#Two have broken links. Can't guarantee their integrity\n",
    "#Three were found to be erroneous prices somehow. \n",
    "#One was a correct listings (very fancy rental). However this will skew results in its neighbourhood as it's..\n",
    "#price is significantly than anything else in Dublin.\n",
    "#??I should really dig into some of the rentals in the 500 to 1000 dollar branket to investigate.\n",
    "data_extended = data_extended[~(data_extended['price'] > 1000)]"
   ]
  },
  {
   "cell_type": "markdown",
   "metadata": {},
   "source": [
    "## Helper Functions"
   ]
  },
  {
   "cell_type": "code",
   "execution_count": 28,
   "metadata": {},
   "outputs": [],
   "source": [
    "def get_list_of_infrequent_values(data, min_freq=10):\n",
    "    \n",
    "    \"\"\"\n",
    "    Creates a list of the most infrequent values of a column. \n",
    "\n",
    "    Args:\n",
    "        data: Series to be investigated.\n",
    "        min_freq: Below this threshold value will be included in infrequent list (default = 10).\n",
    "    \n",
    "    Returns:\n",
    "        A list of all infrequent values in data.\n",
    "    \"\"\"\n",
    "    v_counts = data.value_counts()\n",
    "    uncommon_list = list(v_counts[v_counts < min_freq].index)    \n",
    "    return uncommon_list"
   ]
  },
  {
   "cell_type": "markdown",
   "metadata": {},
   "source": [
    "## Get geographic coordinates for each neighbourhood\n",
    "\n",
    "Geographic coordinates will be needed later when results are being plotted on a map of the city in Tableau. The method used here is to take all rental properties labelled with the neighbourhood in the database and to average both their latititude and their longitude. The averages are used as the cordinates for the neighbourhood.\n"
   ]
  },
  {
   "cell_type": "code",
   "execution_count": 29,
   "metadata": {},
   "outputs": [],
   "source": [
    "#create a copy of the data_extended data.\n",
    "data_coord = data_extended.copy()"
   ]
  },
  {
   "cell_type": "code",
   "execution_count": 30,
   "metadata": {},
   "outputs": [],
   "source": [
    "#1. Remove rows that have NaN for neighbourhood and coordinates\n",
    "data_coord.dropna(subset=['host_neighbourhood', 'latitude', 'longitude'], inplace=True)"
   ]
  },
  {
   "cell_type": "code",
   "execution_count": 31,
   "metadata": {},
   "outputs": [
    {
     "name": "stdout",
     "output_type": "stream",
     "text": [
      "['Donnycarney', 'De Pijp', 'Grace Park', 'Ixelles', 'Opéra - Grands Boulevards', 'Kilmore', 'Oud-West', 'French Riviera', 'Downtown Montreal', 'Woluwe-Saint-Lambert', 'Saint-Germain-des-Prés - Odéon', 'Tour Eiffel - Champ de Mars', 'Fulham', 'Rose Bay/Dover Heights', 'Edenmore', 'West Village', 'Richmond District', 'Passy', 'Marine Parade', 'LB of Haringey', 'Auteuil', 'MLK & 183']\n"
     ]
    }
   ],
   "source": [
    "#Get rid of neighbourhoods that dont have enough samples\n",
    "\n",
    "#The min number of times the neighbourhood needs to feature in the list to be considered for comparision \n",
    "min_freq = 5\n",
    "\n",
    "ignore_these_areas = get_list_of_infrequent_values(data_coord['host_neighbourhood'] , min_freq)\n",
    "print(ignore_these_areas)\n",
    "\n",
    "#get rid of the datapoints that are in the neigbourhoods to be ignored\n",
    "data_coord_clean = data_coord[~data_coord['host_neighbourhood'].isin(ignore_these_areas)].copy()\n",
    "\n",
    "#Remove a couple of specific neighbourhoods (ones that should not be included in the Dublin data)\n",
    "data_coord_clean = data_coord_clean[~(data_coord_clean['host_neighbourhood'].isin(['Terézváros - District VI.', 'Isle of Dogs']))]"
   ]
  },
  {
   "cell_type": "code",
   "execution_count": 32,
   "metadata": {},
   "outputs": [],
   "source": [
    "coord_groups = data_coord_clean[['latitude', 'longitude']].groupby(data_coord_clean['host_neighbourhood'])\n",
    "coordinates = coord_groups.mean()"
   ]
  },
  {
   "cell_type": "markdown",
   "metadata": {},
   "source": [
    "## Fill in missing values for neighbourhoods\n",
    "\n",
    "Around 33% of the host neighbourhoods are missing. We can fill this data in by using the geographic coordinates caculated above to see which neighbourhood is nearest.\n",
    "\n",
    "However, for this analysis, I consider the sample of 6362 rentals in Dublin to be sufficient for comparing average ratings in the different neighbourhoods."
   ]
  },
  {
   "cell_type": "code",
   "execution_count": 230,
   "metadata": {},
   "outputs": [
    {
     "data": {
      "text/plain": [
       "(9511, 106)"
      ]
     },
     "execution_count": 230,
     "metadata": {},
     "output_type": "execute_result"
    }
   ],
   "source": [
    "data_extended.shape"
   ]
  },
  {
   "cell_type": "code",
   "execution_count": 231,
   "metadata": {},
   "outputs": [
    {
     "data": {
      "text/plain": [
       "3155"
      ]
     },
     "execution_count": 231,
     "metadata": {},
     "output_type": "execute_result"
    }
   ],
   "source": [
    "data_extended['host_neighbourhood'].isna().sum()"
   ]
  },
  {
   "cell_type": "markdown",
   "metadata": {},
   "source": [
    "## What are the most expensive areas of the city to rent an Airbnb property?\n",
    "\n",
    "The aim here is, for each neighbourhood, to break down the rentals into private rooms, single bed apartments, and 2 bed apartments. Then, for each of the 3 categories get an average. The average of these 3 averages will be used to represent the average cost of a rental for that area.\n",
    "\n",
    "Neighbourhoods get dumped from the statistics if they dont have a minimum number of properties in the 3 categories mentioned above: private rooms, single bedroom house/apt and double bedroom house/apt. This is a bit rough as we are losing the oppurtunity to report on some of those neighbourhoods. Some form of imputing could have been considered when averaging the results if one of the categories was missing.\n"
   ]
  },
  {
   "cell_type": "markdown",
   "metadata": {},
   "source": [
    "The get_average_per_neighbourhood() function can be used with the Airbnb data for any city. Data is available at the following location: http://insideairbnb.com/get-the-data.html."
   ]
  },
  {
   "cell_type": "code",
   "execution_count": 33,
   "metadata": {},
   "outputs": [],
   "source": [
    "def get_average_per_neighbourhood(city_data_listings, column, min_freq_of_neighbourhood ):\n",
    "    \"\"\"\n",
    "    Gets the average value of ratings_column grouped by values of 'host_neighbourhood'. \n",
    "\n",
    "    Args:\n",
    "        city_data_listings: Dataframe to be investigated.\n",
    "        column: The column to get the average of.\n",
    "        min_freq_of_neighbourhood: Below this threshold of frequency neighbourhoods will be removed(default = 10).\n",
    "    Returns:\n",
    "        Series of means for each neighbourhood in the dataset.\n",
    "    \"\"\"\n",
    "    #The min number of times the neighbourhood needs to feature in the list to be considered for comparision \n",
    "    \n",
    "    #create a copy of the data_extended data\n",
    "    #and then this function will work on the data inplace\n",
    "    city_data = city_data_listings.copy()\n",
    "    \n",
    "    #Remove rows that have NaN for neighbourhood\n",
    "    city_data.dropna(subset=['host_neighbourhood'], inplace=True)\n",
    "\n",
    "    #Remove rows that have NaN for Location Rating\n",
    "    city_data.dropna(subset=[column], inplace=True) \n",
    "    \n",
    "    #Get rid of neighbourhoods that dont have enough samples   \n",
    "    ignore_these_areas = get_list_of_infrequent_values(city_data['host_neighbourhood'] , min_freq_of_neighbourhood)\n",
    "    #print(ignore_these_areas)\n",
    "    #get rid of the datapoints that are in the neigbourhoods to be ignored\n",
    "    city_data = city_data[~city_data['host_neighbourhood'].isin(ignore_these_areas)]\n",
    "    \n",
    "    #Group the rentals into neighbourhoods and then get the means for each neighbourhood\n",
    "    rating_groups = city_data[column].groupby(city_data['host_neighbourhood'])\n",
    "    ratings = rating_groups.mean()\n",
    "    \n",
    "    return ratings\n"
   ]
  },
  {
   "cell_type": "code",
   "execution_count": 40,
   "metadata": {},
   "outputs": [],
   "source": [
    "#Calculate the average price for 3 different datasets (one for each of the rental type categories that we are considering)\n",
    "groups_privateroom = get_average_per_neighbourhood(data_extended[data_extended['room_type'] == 'Private room'], 'price', 5)\n",
    "groups_entire_1bed = get_average_per_neighbourhood(data_extended[(data_extended['room_type'] == 'Entire home/apt') & (data_extended['bedrooms'] == 1.0)], 'price', 5)\n",
    "groups_entire_2bed = get_average_per_neighbourhood(data_extended[(data_extended['room_type'] == 'Entire home/apt') & (data_extended['bedrooms'] == 2.0)], 'price', 5)\n"
   ]
  },
  {
   "cell_type": "code",
   "execution_count": 41,
   "metadata": {},
   "outputs": [
    {
     "data": {
      "text/plain": [
       "host_neighbourhood\n",
       "Ballsbridge                   138.434360\n",
       "Docklands                     137.522308\n",
       "Trinity College               134.457321\n",
       "Sandymount                    131.360534\n",
       "Phibsborough                  126.096369\n",
       "Georgian Quarter              124.525343\n",
       "Drumcondra                    123.811240\n",
       "St. Stephens Green            123.665263\n",
       "Old City                      122.891443\n",
       "North City Central            121.614253\n",
       "Portobello                    119.925952\n",
       "Temple Bar                    119.233926\n",
       "Smithfield                    118.910385\n",
       "The Liberties                 118.065387\n",
       "East Wall                     117.465359\n",
       "Ranelagh and Rathmines        113.199843\n",
       "Rathgar                       110.921225\n",
       "Ringsend/Irishtown            109.688937\n",
       "North Strand                  106.368081\n",
       "Stoneybatter/Arbour Hill      105.626848\n",
       "Castleknock                   105.044995\n",
       "Donnybrook                    104.509847\n",
       "Monkstown                     101.964103\n",
       "Phoenix Park and Surrounds     99.433333\n",
       "Kilmainham                     98.943915\n",
       "Booterstown                    98.182540\n",
       "Rialto                         96.724291\n",
       "Blackrock                      92.448074\n",
       "Cabra                          90.938197\n",
       "Clontarf                       90.437037\n",
       "Harold's Cross                 89.155172\n",
       "Dundrum                        87.359623\n",
       "Crumlin                        84.061111\n",
       "Ballybough                     78.728291\n",
       "Name: price, dtype: float64"
      ]
     },
     "execution_count": 41,
     "metadata": {},
     "output_type": "execute_result"
    }
   ],
   "source": [
    "#Calculate an average across the 3 property types\n",
    "averages = (groups_privateroom+ groups_entire_1bed + groups_entire_2bed)/3\n",
    "#Remove some neighbourhoods that did not qualify for all three categories of rental\n",
    "averages = averages.dropna()\n",
    "\n",
    "averages.sort_values(ascending=False)"
   ]
  },
  {
   "cell_type": "markdown",
   "metadata": {},
   "source": [
    "## Which areas get the best average location rating score?"
   ]
  },
  {
   "cell_type": "code",
   "execution_count": 42,
   "metadata": {},
   "outputs": [],
   "source": [
    "ratings = get_average_per_neighbourhood(data_extended, 'review_scores_location', 20)"
   ]
  },
  {
   "cell_type": "code",
   "execution_count": 49,
   "metadata": {},
   "outputs": [],
   "source": [
    "#Write to a CSV file for export to facilite Tableau Map generation\n",
    "#For each neighbourhood in the ratings table write\n",
    "#1. The coordinates of the neighbourhood\n",
    "#2. The ratings for that neighbourhood. \n",
    "\n",
    "#get list of all neighbourhoods in the list so we can search the coordinates dataframe for them.\n",
    "neighbourhoods_of_interest = list(ratings.index)\n",
    "#extract relevent coordinates\n",
    "rating_coords = coordinates[ coordinates.index.isin(neighbourhoods_of_interest) ].copy()\n",
    "#Combine ratings with the corordinates data\n",
    "rating_coords['rating'] = ratings.values\n",
    "#Write the ratings and coordinates to a file\n",
    "rating_coords.to_csv(output_directory + file_ratings_out)"
   ]
  },
  {
   "cell_type": "markdown",
   "metadata": {},
   "source": [
    "## Which rating correlates most strongly with overall score?\n"
   ]
  },
  {
   "cell_type": "code",
   "execution_count": 237,
   "metadata": {},
   "outputs": [],
   "source": [
    "data_ratings = data_extended[['review_scores_rating', 'review_scores_accuracy', 'review_scores_cleanliness',\n",
    "                           'review_scores_checkin', 'review_scores_communication', 'review_scores_location', 'review_scores_value']].copy()"
   ]
  },
  {
   "cell_type": "code",
   "execution_count": 238,
   "metadata": {},
   "outputs": [
    {
     "data": {
      "text/plain": [
       "(9511, 7)"
      ]
     },
     "execution_count": 238,
     "metadata": {},
     "output_type": "execute_result"
    }
   ],
   "source": [
    "data_ratings.shape"
   ]
  },
  {
   "cell_type": "code",
   "execution_count": 239,
   "metadata": {},
   "outputs": [],
   "source": [
    "data_ratings.dropna(inplace=True)"
   ]
  },
  {
   "cell_type": "code",
   "execution_count": 240,
   "metadata": {},
   "outputs": [
    {
     "data": {
      "text/plain": [
       "<matplotlib.axes._subplots.AxesSubplot at 0x3c02286898>"
      ]
     },
     "execution_count": 240,
     "metadata": {},
     "output_type": "execute_result"
    },
    {
     "data": {
      "image/png": "[encoded data removed]",
      "text/plain": [
       "<Figure size 432x288 with 2 Axes>"
      ]
     },
     "metadata": {
      "needs_background": "light"
     },
     "output_type": "display_data"
    }
   ],
   "source": [
    "sns.heatmap( data_ratings.corr().abs(), annot=True)\n"
   ]
  },
  {
   "cell_type": "markdown",
   "metadata": {},
   "source": []
  },
  {
   "cell_type": "code",
   "execution_count": null,
   "metadata": {},
   "outputs": [],
   "source": []
  },
  {
   "cell_type": "code",
   "execution_count": null,
   "metadata": {},
   "outputs": [],
   "source": []
  },
  {
   "cell_type": "code",
   "execution_count": null,
   "metadata": {},
   "outputs": [],
   "source": []
  },
  {
   "cell_type": "code",
   "execution_count": null,
   "metadata": {},
   "outputs": [],
   "source": []
  }
 ],
 "metadata": {
  "kernelspec": {
   "display_name": "Python 3",
   "language": "python",
   "name": "python3"
  },
  "language_info": {
   "codemirror_mode": {
    "name": "ipython",
    "version": 3
   },
   "file_extension": ".py",
   "mimetype": "text/x-python",
   "name": "python",
   "nbconvert_exporter": "python",
   "pygments_lexer": "ipython3",
   "version": "3.7.2"
  }
 },
 "nbformat": 4,
 "nbformat_minor": 2
}
